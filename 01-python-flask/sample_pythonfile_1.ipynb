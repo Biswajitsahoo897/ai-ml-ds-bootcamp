{
 "cells": [
  {
   "cell_type": "code",
   "execution_count": 1,
   "metadata": {},
   "outputs": [
    {
     "name": "stdout",
     "output_type": "stream",
     "text": [
      "{'brand': 'Ford', 'model': 'Mustang', 'year': 2020}\n"
     ]
    }
   ],
   "source": [
    "thisdict = {\n",
    "    \"brand\": \"Ford\",\n",
    "    \"model\": \"Mustang\",\n",
    "    \"year\": 1964,\n",
    "    \"year\": 2020\n",
    "}\n",
    "print(thisdict)"
   ]
  },
  {
   "cell_type": "code",
   "execution_count": 2,
   "metadata": {},
   "outputs": [
    {
     "name": "stdout",
     "output_type": "stream",
     "text": [
      "<class 'dict'>\n",
      "{'name': 'Biswajit', 'age': 19, 'country': 'India', 'region': 'Hindu'}\n"
     ]
    }
   ],
   "source": [
    "this_dict=dict(name=\"Biswajit\",age=19,country=\"India\",region=\"Hindu\")\n",
    "print(type(this_dict))\n",
    "print(this_dict)"
   ]
  },
  {
   "cell_type": "code",
   "execution_count": 8,
   "metadata": {},
   "outputs": [
    {
     "name": "stdout",
     "output_type": "stream",
     "text": [
      "Printing the year 1964\n",
      "dict_keys(['brand', 'model', 'year'])\n",
      "dict_keys(['brand', 'model', 'year', 'color'])\n",
      "dict_values(['Ford', 'Mustang', 1964, 'white'])\n",
      "dict_items([('brand', 'Ford'), ('model', 'Mustang'), ('year', 1964), ('color', 'white')])\n",
      "<class 'dict'>\n",
      "{'brand': 'Ford', 'model': 'Mustang', 'year': 1964, 'color': 'white'}\n"
     ]
    }
   ],
   "source": [
    "car = {\n",
    "\"brand\": \"Ford\",\n",
    "\"model\": \"Mustang\",\n",
    "\"year\": 1964\n",
    "}\n",
    "\n",
    "x = car.keys()\n",
    "print(f\"Printing the year\",car.get(\"year\"))\n",
    "print(x)                    #before \n",
    "car[\"color\"] = \"white\"      #this is the way to add into dicionary items or we can use the update() methods\n",
    "print(x)                    #after the change\n",
    "print(car.values())\n",
    "print(car.items())          #it will return each item in a dictionary ,as tuples in a list\n",
    "mydict=car\n",
    "print(type(mydict))\n",
    "print(mydict)"
   ]
  },
  {
   "cell_type": "code",
   "execution_count": 9,
   "metadata": {},
   "outputs": [
    {
     "name": "stdout",
     "output_type": "stream",
     "text": [
      "5.943820224719101\n"
     ]
    }
   ],
   "source": [
    "x=lambda a,d,c: (a**d)/c\n",
    "print(x(23,2,89))"
   ]
  },
  {
   "cell_type": "code",
   "execution_count": 17,
   "metadata": {},
   "outputs": [
    {
     "name": "stdout",
     "output_type": "stream",
     "text": [
      "['Ford', 'Lamborgini', 'Ferrari', 'Aston Martin']\n",
      "['Aston Martin', 'Ferrari', 'Ford', 'Honda', 'Lamborgini']\n",
      "['Lamborgini', 'Honda', 'Ford', 'Ferrari', 'Aston Martin']\n"
     ]
    }
   ],
   "source": [
    "cars=[\"Ford\",\"Lamborgini\",\"Ferrari\",\"Aston Martin\"]\n",
    "print(cars)\n",
    "cars.append(\"Honda\")\n",
    "# cars.pop()\n",
    "# cars.remove(\"Ford\")666\n",
    "cars.sort()\n",
    "print(cars)\n",
    "cars.reverse()\n",
    "print(cars)\n"
   ]
  },
  {
   "cell_type": "code",
   "execution_count": null,
   "metadata": {},
   "outputs": [],
   "source": []
  },
  {
   "cell_type": "code",
   "execution_count": 20,
   "metadata": {},
   "outputs": [
    {
     "name": "stdout",
     "output_type": "stream",
     "text": [
      "diya\n",
      "meni\n",
      "jasmine\n",
      "Welcome to the world of python!!!\n",
      "90\n"
     ]
    }
   ],
   "source": [
    "class details:\n",
    "    # name=\"biswajit\"\n",
    "    # age=19\n",
    "    def __init__(self,n,a) -> None:\n",
    "        self.name=n\n",
    "        self.age=a\n",
    "\n",
    "    def greet(self):\n",
    "        print(\"Welcome to the world of python!!!\")\n",
    "obj_1=details(\"diya\",98)\n",
    "obj_2=details(\"meni\",21)\n",
    "obj_3=details(\"jasmine\",34)\n",
    "print(obj_1.name)\n",
    "print(obj_2.name)\n",
    "print(obj_3.name)\n",
    "obj_1.greet()\n",
    "obj_1.age=90\n",
    "print(obj_1.age)"
   ]
  },
  {
   "cell_type": "code",
   "execution_count": 8,
   "metadata": {},
   "outputs": [
    {
     "name": "stdout",
     "output_type": "stream",
     "text": [
      "Counter value: 0\n"
     ]
    }
   ],
   "source": [
    "import threading\n",
    "\n",
    "def increment(counter, lock):\n",
    "    for i in range(10000):\n",
    "        lock.acquire()\n",
    "        counter += 1\n",
    "        lock.release()\n",
    "\n",
    "if __name__ == '__main__':\n",
    "    counter = 0\n",
    "    lock = threading.Lock()\n",
    "\n",
    "    threads = []\n",
    "    for i in range(2):\n",
    "        thread = threading.Thread(target=increment, args=(counter, lock))\n",
    "        threads.append(thread)\n",
    "        thread.start()\n",
    "\n",
    "    for thread in threads:\n",
    "        thread.join()\n",
    "\n",
    "    print(\"Counter value:\", counter)\n"
   ]
  }
 ],
 "metadata": {
  "kernelspec": {
   "display_name": "Python 3",
   "language": "python",
   "name": "python3"
  },
  "language_info": {
   "codemirror_mode": {
    "name": "ipython",
    "version": 3
   },
   "file_extension": ".py",
   "mimetype": "text/x-python",
   "name": "python",
   "nbconvert_exporter": "python",
   "pygments_lexer": "ipython3",
   "version": "3.12.3"
  }
 },
 "nbformat": 4,
 "nbformat_minor": 2
}
